{
 "cells": [
  {
   "cell_type": "code",
   "execution_count": 5,
   "metadata": {},
   "outputs": [
    {
     "name": "stdout",
     "output_type": "stream",
     "text": [
      "Please enter a string for the player to guess: STRING\n",
      "Guess the phrase: _ _ _ _ _ _\n",
      "1) Spin the Wheel\n",
      "2) Buy a vowel\n",
      "3) Solve the puzzle\n",
      "Unused consonants:  BCDFGHJKLMNPQRSTVWXYZ\n",
      "Unused vowels:  AEIOU\n",
      "Prize pool:  0\n",
      "1\n",
      "Guess the phrase: _ _ _ _ _ _\n",
      "1) Spin the Wheel\n",
      "2) Buy a vowel\n",
      "3) Solve the puzzle\n"
     ]
    },
    {
     "ename": "NameError",
     "evalue": "name 'cleft' is not defined",
     "output_type": "error",
     "traceback": [
      "\u001b[1;31m---------------------------------------------------------------------------\u001b[0m",
      "\u001b[1;31mNameError\u001b[0m                                 Traceback (most recent call last)",
      "\u001b[1;32m<ipython-input-5-d0383bcabe02>\u001b[0m in \u001b[0;36m<module>\u001b[1;34m\u001b[0m\n\u001b[0;32m     30\u001b[0m     \u001b[0mprint\u001b[0m\u001b[1;33m(\u001b[0m\u001b[1;34m\"2) Buy a vowel\"\u001b[0m\u001b[1;33m)\u001b[0m\u001b[1;33m\u001b[0m\u001b[1;33m\u001b[0m\u001b[0m\n\u001b[0;32m     31\u001b[0m     \u001b[0mprint\u001b[0m\u001b[1;33m(\u001b[0m\u001b[1;34m\"3) Solve the puzzle\"\u001b[0m\u001b[1;33m)\u001b[0m\u001b[1;33m\u001b[0m\u001b[1;33m\u001b[0m\u001b[0m\n\u001b[1;32m---> 32\u001b[1;33m     \u001b[0mprint\u001b[0m\u001b[1;33m(\u001b[0m\u001b[1;34m\"Unused consonants: \"\u001b[0m\u001b[1;33m,\u001b[0m\u001b[0mcleft\u001b[0m\u001b[1;33m)\u001b[0m\u001b[1;33m\u001b[0m\u001b[1;33m\u001b[0m\u001b[0m\n\u001b[0m\u001b[0;32m     33\u001b[0m     \u001b[0mprint\u001b[0m\u001b[1;33m(\u001b[0m\u001b[1;34m\"Unused vowels: \"\u001b[0m\u001b[1;33m,\u001b[0m\u001b[0muvowels\u001b[0m\u001b[1;33m)\u001b[0m\u001b[1;33m\u001b[0m\u001b[1;33m\u001b[0m\u001b[0m\n\u001b[0;32m     34\u001b[0m     \u001b[0mprint\u001b[0m\u001b[1;33m(\u001b[0m\u001b[1;34m\"Prize pool: \"\u001b[0m\u001b[1;33m,\u001b[0m\u001b[0mprize_pool\u001b[0m\u001b[1;33m)\u001b[0m\u001b[1;33m\u001b[0m\u001b[1;33m\u001b[0m\u001b[0m\n",
      "\u001b[1;31mNameError\u001b[0m: name 'cleft' is not defined"
     ]
    }
   ],
   "source": [
    "import random\n",
    "list_ofvalues=['BANKRUPT',500,550,600,650,700,750,800,850,2500]\n",
    "uconsonants=\"BCDFGHJKLMNPQRSTVWXYZ\"\n",
    "unconsonantsFinal = list(uconsonants)\n",
    "uvowels=\"AEIOU\"\n",
    "prize_pool=0\n",
    "\n",
    "chosen_word=input(\"Please enter a string for the player to guess: \")\n",
    "\n",
    "gphrase=\"_\" * len(chosen_word)\n",
    "a=\" \"\n",
    "b = \" \"\n",
    "b=a.join(gphrase)\n",
    "\n",
    "print(\"Guess the phrase:\",b)\n",
    "print(\"1) Spin the Wheel\")\n",
    "print(\"2) Buy a vowel\")\n",
    "print(\"3) Solve the puzzle\")\n",
    "print(\"Unused consonants: \",uconsonants)\n",
    "print(\"Unused vowels: \",uvowels)\n",
    "print(\"Prize pool: \",prize_pool)\n",
    "action=int(input())\n",
    "\n",
    "\n",
    "while True:\n",
    "   \n",
    "    \n",
    "    print(\"Guess the phrase:\",b)\n",
    "    print(\"1) Spin the Wheel\")\n",
    "    print(\"2) Buy a vowel\")\n",
    "    print(\"3) Solve the puzzle\")\n",
    "    print(\"Unused consonants: \",cleft)\n",
    "    print(\"Unused vowels: \",uvowels)\n",
    "    print(\"Prize pool: \",prize_pool)\n",
    "    action=int(input())\n",
    "    \n",
    " \n",
    "   \n",
    "    \n",
    "    \n",
    "    if action==1:\n",
    "        a=random.choice(list_ofvalues)\n",
    "        print(\"The wheel lands at: \",a)\n",
    "        prize_pool=prize_pool+a\n",
    "        consonant=input(\"Enter consonant: \")\n",
    "        print(list(unconsonantsFinal))\n",
    "        if consonant in chosen_word:\n",
    "            print(str(consonant + \" is found!\"))\n",
    "            unconsonantsFinal.remove(consonant)\n",
    "            cleft = \"\"\n",
    "            cleft = ''.join(unconsonantsFinal)\n",
    "                        \n",
    "            \n",
    "        if prize_pool==\"BANKRUPT\":\n",
    "            prize_pool=0\n",
    "            \n",
    "    if action==2:\n",
    "        if prize_pool<250:\n",
    "            print(\"You do not have enough money to buy a vowel.\")\n",
    "        else:\n",
    "            vowel=input(\"Enter vowel: \")\n",
    "            if vowel in uvowels:\n",
    "                print(str(vowel + \"\\'s shown\"))\n",
    "                uvowels.strip(vowel)\n",
    "            prize_pool=prize_pool-250\n",
    "            \n",
    "    if action==3:\n",
    "        phrase=input(\"Enter phrase / sentence: \")\n",
    "        if phrase==chosen_word:\n",
    "            print(\"Congratulations! You win a total of\", prize_pool)\n",
    "        else: \n",
    "            print(\"You got it wrong!\")"
   ]
  },
  {
   "cell_type": "code",
   "execution_count": null,
   "metadata": {},
   "outputs": [],
   "source": []
  },
  {
   "cell_type": "code",
   "execution_count": null,
   "metadata": {},
   "outputs": [],
   "source": []
  }
 ],
 "metadata": {
  "kernelspec": {
   "display_name": "Python 3",
   "language": "python",
   "name": "python3"
  },
  "language_info": {
   "codemirror_mode": {
    "name": "ipython",
    "version": 3
   },
   "file_extension": ".py",
   "mimetype": "text/x-python",
   "name": "python",
   "nbconvert_exporter": "python",
   "pygments_lexer": "ipython3",
   "version": "3.7.4"
  }
 },
 "nbformat": 4,
 "nbformat_minor": 2
}
